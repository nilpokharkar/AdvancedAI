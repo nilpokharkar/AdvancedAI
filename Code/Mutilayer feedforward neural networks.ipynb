{
 "cells": [
  {
   "cell_type": "code",
   "execution_count": 1,
   "id": "fb6f0e43",
   "metadata": {},
   "outputs": [],
   "source": [
    "# general libraries\n",
    "import pandas as pd\n",
    "import numpy as np\n",
    "import matplotlib\n",
    "import matplotlib.pyplot as plt\n",
    "import matplotlib.font_manager as fm\n",
    "from random import *\n",
    "import time\n",
    "\n",
    "# tensorflow libraries\n",
    "from tensorflow.keras.datasets import fashion_mnist\n",
    "import tensorflow as tf\n",
    "from tensorflow import keras\n",
    "from tensorflow.keras import layers\n",
    "import tensorflow_docs as tfdocs\n",
    "import tensorflow_docs.modeling"
   ]
  },
  {
   "cell_type": "code",
   "execution_count": 2,
   "id": "92dbaaef",
   "metadata": {},
   "outputs": [],
   "source": [
    "import sys\n",
    "sys.path.append('ADL-Book-2nd-Ed/modules/')\n",
    "\n",
    "from style_setting import set_style"
   ]
  },
  {
   "cell_type": "code",
   "execution_count": 3,
   "id": "d0d7f039",
   "metadata": {},
   "outputs": [
    {
     "name": "stdout",
     "output_type": "stream",
     "text": [
      "Downloading data from https://storage.googleapis.com/tensorflow/tf-keras-datasets/train-labels-idx1-ubyte.gz\n",
      "29515/29515 [==============================] - 0s 1us/step\n",
      "Downloading data from https://storage.googleapis.com/tensorflow/tf-keras-datasets/train-images-idx3-ubyte.gz\n",
      "26421880/26421880 [==============================] - 3s 0us/step\n",
      "Downloading data from https://storage.googleapis.com/tensorflow/tf-keras-datasets/t10k-labels-idx1-ubyte.gz\n",
      "5148/5148 [==============================] - 0s 0s/step\n",
      "Downloading data from https://storage.googleapis.com/tensorflow/tf-keras-datasets/t10k-images-idx3-ubyte.gz\n",
      "4422102/4422102 [==============================] - 1s 0us/step\n"
     ]
    }
   ],
   "source": [
    "((trainX, trainY), (testX, testY)) = fashion_mnist.load_data()"
   ]
  },
  {
   "cell_type": "code",
   "execution_count": 4,
   "id": "a524c7e3",
   "metadata": {},
   "outputs": [],
   "source": [
    "def get_label_name(idx):\n",
    "  \"\"\"Returns the corresponding label's name, given its numerical value.\"\"\"\n",
    "  \n",
    "  if (idx == 0):\n",
    "      return '(0) T-shirt/top'\n",
    "  elif (idx == 1):\n",
    "      return '(1) Trouser'\n",
    "  elif (idx == 2):\n",
    "      return '(2) Pullover'\n",
    "  elif (idx == 3):\n",
    "      return '(3) Dress'\n",
    "  elif (idx == 4):\n",
    "      return '(4) Coat'\n",
    "  elif (idx == 5):\n",
    "      return '(5) Sandal'\n",
    "  elif (idx == 6):\n",
    "      return '(6) Shirt'\n",
    "  elif (idx == 7):\n",
    "      return '(7) Sneaker'\n",
    "  elif (idx == 8):\n",
    "      return '(8) Bag'\n",
    "  elif (idx == 9):\n",
    "      return '(9) Ankle boot'"
   ]
  },
  {
   "cell_type": "code",
   "execution_count": 5,
   "id": "2a32c76e",
   "metadata": {},
   "outputs": [],
   "source": [
    "def get_random_element_with_label (data, lbls, lbl):\n",
    "  \"\"\"Returns one numpy array (one column) with an example of a choosen label.\"\"\"\n",
    "  \n",
    "  tmp = lbls == lbl\n",
    "  subset = data[tmp.flatten(), :]\n",
    "  return subset[randint(1, subset.shape[1]), :]"
   ]
  },
  {
   "cell_type": "code",
   "execution_count": 6,
   "id": "8962cfa9",
   "metadata": {},
   "outputs": [
    {
     "name": "stdout",
     "output_type": "stream",
     "text": [
      "Dimensions of the training dataset:  (60000, 28, 28)\n",
      "Dimensions of the test dataset:  (10000, 28, 28)\n",
      "Dimensions of the training labels:  (60000,)\n",
      "Dimensions of the test labels:  (10000,)\n"
     ]
    }
   ],
   "source": [
    "print('Dimensions of the training dataset: ', trainX.shape)\n",
    "print('Dimensions of the test dataset: ', testX.shape)\n",
    "print('Dimensions of the training labels: ', trainY.shape)\n",
    "print('Dimensions of the test labels: ', testY.shape)"
   ]
  },
  {
   "cell_type": "code",
   "execution_count": 7,
   "id": "25e02b77",
   "metadata": {},
   "outputs": [],
   "source": [
    "labels_train = np.zeros((60000, 10))\n",
    "labels_train[np.arange(60000), trainY] = 1\n",
    "\n",
    "data_train = trainX.reshape(60000, 784)\n",
    "\n",
    "labels_test = np.zeros((10000, 10))\n",
    "labels_test[np.arange(10000), testY] = 1\n",
    "\n",
    "data_test = testX.reshape(10000, 784)"
   ]
  },
  {
   "cell_type": "code",
   "execution_count": 8,
   "id": "90ce34d8",
   "metadata": {},
   "outputs": [
    {
     "name": "stdout",
     "output_type": "stream",
     "text": [
      "Dimensions of the training dataset:  (60000, 784)\n",
      "Dimensions of the test dataset:  (10000, 784)\n",
      "Dimensions of the training labels:  (60000, 10)\n",
      "Dimensions of the test labels:  (10000, 10)\n"
     ]
    }
   ],
   "source": [
    "print('Dimensions of the training dataset: ', data_train.shape)\n",
    "print('Dimensions of the test dataset: ', data_test.shape)\n",
    "print('Dimensions of the training labels: ', labels_train.shape)\n",
    "print('Dimensions of the test labels: ', labels_test.shape)"
   ]
  },
  {
   "cell_type": "code",
   "execution_count": 12,
   "id": "05b00a33",
   "metadata": {},
   "outputs": [],
   "source": [
    "data_train_norm = np.array(data_train/255.0)\n",
    "data_test_norm = np.array(data_test/255.0)"
   ]
  },
  {
   "cell_type": "code",
   "execution_count": 13,
   "id": "26316203",
   "metadata": {},
   "outputs": [
    {
     "data": {
      "image/png": "[encoded data removed]",
      "text/plain": [
       "<Figure size 432x288 with 1 Axes>"
      ]
     },
     "metadata": {
      "needs_background": "light"
     },
     "output_type": "display_data"
    }
   ],
   "source": [
    "idx = 5\n",
    "plt.imshow(data_train_norm[idx, :].reshape(28, 28), cmap = matplotlib.cm.binary, interpolation = 'nearest')\n",
    "plt.axis(\"on\")\n",
    "plt.title(get_label_name(trainY[idx]))\n",
    "plt.show()"
   ]
  },
  {
   "cell_type": "code",
   "execution_count": 18,
   "id": "5f390721",
   "metadata": {},
   "outputs": [
    {
     "data": {
      "image/png": "[encoded data removed]",
      "text/plain": [
       "<Figure size 1080x1080 with 10 Axes>"
      ]
     },
     "metadata": {
      "needs_background": "light"
     },
     "output_type": "display_data"
    }
   ],
   "source": [
    "# The following code create a numpy array where in column 0 you will find \n",
    "# an example of label 0, in column 1 of label 1 and so on.\n",
    "labels_overview = np.empty([784, 10])\n",
    "for i in range (0, 10):\n",
    "    col = get_random_element_with_label(data_train_norm, trainY, i)\n",
    "    labels_overview[:,i] = col\n",
    "    \n",
    "f = plt.figure(figsize = (15, 15))\n",
    "count = 1\n",
    "for i in range(0, 10):\n",
    "    plt.subplot(5, 2, count)\n",
    "    count = count + 1\n",
    "    plt.subplots_adjust(hspace = 0.5)\n",
    "    plt.title(get_label_name(i))\n",
    "    some_digit_image = labels_overview[:, i].reshape(28, 28)\n",
    "    plt.imshow(some_digit_image, cmap = matplotlib.cm.binary, interpolation = \"nearest\")\n",
    "    plt.axis(\"off\")\n",
    "    #pass #<-- was in original code, I don't think it's necessary?"
   ]
  },
  {
   "cell_type": "code",
   "execution_count": 22,
   "id": "6d0603c1",
   "metadata": {},
   "outputs": [],
   "source": [
    "# build the model\n",
    "def build_model(opt):\n",
    "  # create model\n",
    "    model = keras.Sequential()\n",
    "    model.add(layers.Dense(15, input_dim = 784, activation = 'relu')) # add first hidden layer and set input dimensions\n",
    "    model.add(layers.Dense(10, activation = 'softmax')) # add output layer\n",
    "    # compile model\n",
    "    model.compile(loss = 'categorical_crossentropy', optimizer = opt, metrics = ['categorical_accuracy'])\n",
    "    return model"
   ]
  },
  {
   "cell_type": "code",
   "execution_count": 23,
   "id": "72a961a1",
   "metadata": {},
   "outputs": [
    {
     "name": "stdout",
     "output_type": "stream",
     "text": [
      "Model: \"sequential\"\n",
      "_________________________________________________________________\n",
      " Layer (type)                Output Shape              Param #   \n",
      "=================================================================\n",
      " dense (Dense)               (None, 15)                11775     \n",
      "                                                                 \n",
      " dense_1 (Dense)             (None, 10)                160       \n",
      "                                                                 \n",
      "=================================================================\n",
      "Total params: 11,935\n",
      "Trainable params: 11,935\n",
      "Non-trainable params: 0\n",
      "_________________________________________________________________\n"
     ]
    }
   ],
   "source": [
    "#build and summarize model\n",
    "model = build_model(tf.keras.optimizers.SGD(momentum = 0.0, learning_rate = 0.01))\n",
    "\n",
    "model.summary()"
   ]
  },
  {
   "cell_type": "code",
   "execution_count": 24,
   "id": "5d069d7d",
   "metadata": {},
   "outputs": [
    {
     "name": "stdout",
     "output_type": "stream",
     "text": [
      "\n",
      "Epoch: 0, categorical_accuracy:0.0977,  loss:2.4112,  \n",
      "....................................................................................................\n",
      "Epoch: 100, categorical_accuracy:0.4491,  loss:1.7171,  \n",
      "....................................................................................................\n",
      "Epoch: 200, categorical_accuracy:0.5845,  loss:1.3484,  \n",
      "....................................................................................................\n",
      "Epoch: 300, categorical_accuracy:0.6420,  loss:1.1177,  \n",
      "....................................................................................................\n",
      "Epoch: 400, categorical_accuracy:0.6750,  loss:0.9881,  \n",
      "....................................................................................................\n",
      "Epoch: 500, categorical_accuracy:0.6965,  loss:0.9090,  \n",
      "....................................................................................................\n",
      "Epoch: 600, categorical_accuracy:0.7151,  loss:0.8538,  \n",
      "....................................................................................................\n",
      "Epoch: 700, categorical_accuracy:0.7300,  loss:0.8119,  \n",
      "....................................................................................................\n",
      "Epoch: 800, categorical_accuracy:0.7419,  loss:0.7784,  \n",
      "....................................................................................................\n",
      "Epoch: 900, categorical_accuracy:0.7522,  loss:0.7507,  \n",
      "...................................................................................................."
     ]
    }
   ],
   "source": [
    "EPOCHS = 1000\n",
    "\n",
    "history = model.fit(\n",
    "  data_train_norm, labels_train,\n",
    "  epochs = EPOCHS, verbose = 0,\n",
    "  batch_size = data_train_norm.shape[0],\n",
    "  callbacks = [tfdocs.modeling.EpochDots()])"
   ]
  },
  {
   "cell_type": "code",
   "execution_count": 25,
   "id": "ed9de404",
   "metadata": {},
   "outputs": [
    {
     "data": {
      "text/html": [
       "<div>\n",
       "<style scoped>\n",
       "    .dataframe tbody tr th:only-of-type {\n",
       "        vertical-align: middle;\n",
       "    }\n",
       "\n",
       "    .dataframe tbody tr th {\n",
       "        vertical-align: top;\n",
       "    }\n",
       "\n",
       "    .dataframe thead th {\n",
       "        text-align: right;\n",
       "    }\n",
       "</style>\n",
       "<table border=\"1\" class=\"dataframe\">\n",
       "  <thead>\n",
       "    <tr style=\"text-align: right;\">\n",
       "      <th></th>\n",
       "      <th>loss</th>\n",
       "      <th>categorical_accuracy</th>\n",
       "      <th>epoch</th>\n",
       "    </tr>\n",
       "  </thead>\n",
       "  <tbody>\n",
       "    <tr>\n",
       "      <th>995</th>\n",
       "      <td>0.728369</td>\n",
       "      <td>0.760133</td>\n",
       "      <td>995</td>\n",
       "    </tr>\n",
       "    <tr>\n",
       "      <th>996</th>\n",
       "      <td>0.728151</td>\n",
       "      <td>0.760200</td>\n",
       "      <td>996</td>\n",
       "    </tr>\n",
       "    <tr>\n",
       "      <th>997</th>\n",
       "      <td>0.727933</td>\n",
       "      <td>0.760333</td>\n",
       "      <td>997</td>\n",
       "    </tr>\n",
       "    <tr>\n",
       "      <th>998</th>\n",
       "      <td>0.727715</td>\n",
       "      <td>0.760317</td>\n",
       "      <td>998</td>\n",
       "    </tr>\n",
       "    <tr>\n",
       "      <th>999</th>\n",
       "      <td>0.727498</td>\n",
       "      <td>0.760433</td>\n",
       "      <td>999</td>\n",
       "    </tr>\n",
       "  </tbody>\n",
       "</table>\n",
       "</div>"
      ],
      "text/plain": [
       "         loss  categorical_accuracy  epoch\n",
       "995  0.728369              0.760133    995\n",
       "996  0.728151              0.760200    996\n",
       "997  0.727933              0.760333    997\n",
       "998  0.727715              0.760317    998\n",
       "999  0.727498              0.760433    999"
      ]
     },
     "execution_count": 25,
     "metadata": {},
     "output_type": "execute_result"
    }
   ],
   "source": [
    "hist = pd.DataFrame(history.history)\n",
    "hist['epoch'] = history.epoch\n",
    "hist.tail()"
   ]
  },
  {
   "cell_type": "code",
   "execution_count": 26,
   "id": "194f8cb5",
   "metadata": {},
   "outputs": [
    {
     "name": "stdout",
     "output_type": "stream",
     "text": [
      "The accuracy on the test set is equal to:  74 %.\n"
     ]
    }
   ],
   "source": [
    "test_loss, test_accuracy = model.evaluate(data_test_norm, labels_test, verbose = 0)\n",
    "print('The accuracy on the test set is equal to: ', int(test_accuracy*100), '%.')"
   ]
  },
  {
   "cell_type": "code",
   "execution_count": 27,
   "id": "ff707192",
   "metadata": {},
   "outputs": [],
   "source": [
    "def model_nlayers(num_neurons, num_layers):\n",
    "    # build model\n",
    "    inputs = keras.Input(shape = 784) # input layer\n",
    "    # first hidden layer\n",
    "    dense = layers.Dense(num_neurons, activation = 'relu')(inputs)\n",
    "    # customized number of layers and neurons per layer\n",
    "    for i in range(num_layers - 1):       \n",
    "        dense = layers.Dense(num_neurons, activation = 'relu')(dense)\n",
    "    # output layer   \n",
    "    outputs = layers.Dense(10, activation = 'softmax')(dense)\n",
    "    model = keras.Model(inputs = inputs, outputs = outputs, name = 'model')\n",
    "    # set optimizer and loss\n",
    "    opt = tf.keras.optimizers.SGD(momentum = 0.9, learning_rate = 0.0001)\n",
    "    model.compile(loss = 'categorical_crossentropy', optimizer = opt, metrics = ['categorical_accuracy'])\n",
    "    \n",
    "    # train model\n",
    "    history = model.fit(\n",
    "      data_train_norm, labels_train,\n",
    "      epochs = 200, verbose = 0,\n",
    "      batch_size = 50,\n",
    "      callbacks = [tfdocs.modeling.EpochDots()])\n",
    "    # save performances\n",
    "    hist = pd.DataFrame(history.history)\n",
    "    hist['epoch'] = history.epoch \n",
    "\n",
    "    return hist, model"
   ]
  },
  {
   "cell_type": "code",
   "execution_count": null,
   "id": "a40fa0b7",
   "metadata": {},
   "outputs": [
    {
     "name": "stdout",
     "output_type": "stream",
     "text": [
      "\n",
      "Epoch: 0, categorical_accuracy:0.2338,  loss:2.0607,  \n",
      "....................................................................................................\n",
      "Epoch: 100, categorical_accuracy:0.8500,  loss:0.4352,  \n",
      "....................................................................................................\n",
      "Epoch: 0, categorical_accuracy:0.2839,  loss:1.9806,  \n",
      "....................................................................................................\n",
      "Epoch: 100, categorical_accuracy:0.8483,  loss:0.4403,  \n",
      "....................................................................................................\n",
      "Epoch: 0, categorical_accuracy:0.2450,  loss:2.1190,  \n",
      "....................................................................................................\n",
      "Epoch: 100, categorical_accuracy:0.8512,  loss:0.4325,  \n",
      "....................................................................................................\n",
      "Epoch: 0, categorical_accuracy:0.1702,  loss:2.2854,  \n",
      "....................................................................................................\n",
      "Epoch: 100, categorical_accuracy:0.8430,  loss:0.4471,  \n",
      "....................................................................................................\n",
      "Epoch: 0, categorical_accuracy:0.3861,  loss:2.1410,  \n",
      "....................................................................................................\n",
      "Epoch: 100, categorical_accuracy:0.8885,  loss:0.3138,  \n",
      "............................................................................."
     ]
    }
   ],
   "source": [
    "res_10_1, model_10_1 = model_nlayers(10, 1)\n",
    "res_10_2, model_10_2 = model_nlayers(10, 2)\n",
    "res_10_3, model_10_3 = model_nlayers(10, 3)\n",
    "res_10_4, model_10_4 = model_nlayers(10, 4)\n",
    "res_100_4, model_100_4 = model_nlayers(100, 4)"
   ]
  },
  {
   "cell_type": "code",
   "execution_count": null,
   "id": "bd349a77",
   "metadata": {},
   "outputs": [],
   "source": []
  }
 ],
 "metadata": {
  "kernelspec": {
   "display_name": "Python 3 (ipykernel)",
   "language": "python",
   "name": "python3"
  },
  "language_info": {
   "codemirror_mode": {
    "name": "ipython",
    "version": 3
   },
   "file_extension": ".py",
   "mimetype": "text/x-python",
   "name": "python",
   "nbconvert_exporter": "python",
   "pygments_lexer": "ipython3",
   "version": "3.9.7"
  }
 },
 "nbformat": 4,
 "nbformat_minor": 5
}
